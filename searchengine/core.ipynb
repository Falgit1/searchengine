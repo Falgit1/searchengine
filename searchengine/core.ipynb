{
 "cells": [
  {
   "cell_type": "code",
   "execution_count": 6,
   "id": "51406155-eed0-4301-8b09-5336005fe006",
   "metadata": {},
   "outputs": [],
   "source": [
    "# from transformers import AutoModel, AutoTokenizer\n",
    "# import torch\n",
    "\n",
    "# # Define the model name\n",
    "# model_name = \"sentence-transformers/all-MiniLM-L6-v2\"\n",
    "\n",
    "# # Load the model and tokenizer\n",
    "# tokenizer = AutoTokenizer.from_pretrained(model_name)\n",
    "# model = AutoModel.from_pretrained(model_name)\n",
    "\n",
    "# # Save the model and tokenizer locally\n",
    "# model.save_pretrained(\"./my_local_model/all-MiniLM-L6-v2\")\n",
    "# tokenizer.save_pretrained(\"./my_local_model/all-MiniLM-L6-v2\")"
   ]
  },
  {
   "cell_type": "code",
   "execution_count": 10,
   "id": "6844972d-56dd-4608-9099-3fec44ac1e57",
   "metadata": {},
   "outputs": [],
   "source": [
    "from transformers import AutoModel, AutoTokenizer\n",
    "import torch\n",
    "from sklearn.metrics.pairwise import cosine_similarity"
   ]
  },
  {
   "cell_type": "code",
   "execution_count": 11,
   "id": "d4937098-09d3-4883-a769-1b98e00e592b",
   "metadata": {},
   "outputs": [],
   "source": [
    "class Search_engine:\n",
    "    def __init__(self):\n",
    "        self.model = AutoModel.from_pretrained(\"./my_local_model/all-MiniLM-L6-v2\")\n",
    "        self.tokenizer = AutoTokenizer.from_pretrained(\"./my_local_model/all-MiniLM-L6-v2\")\n",
    "        self.vector_data=[]\n",
    "        self.base_data=[]\n",
    "        self.threshold=0.7\n",
    "        \n",
    "    def get_cls_vector(self,sentence):\n",
    "        # Still use return_tensors=\"pt\" for PyTorch model\n",
    "        inputs = self.tokenizer(sentence, return_tensors=\"pt\", padding=True, truncation=True)\n",
    "        \n",
    "        with torch.no_grad():\n",
    "            outputs = self.model(**inputs)\n",
    "    \n",
    "        cls_embedding = outputs.last_hidden_state[:, 0, :]  # [CLS] token\n",
    "        return cls_embedding.squeeze().cpu().numpy()  # convert to NumPy\n",
    "\n",
    "    def similarity(self,X,Y):\n",
    "        result=cosine_similarity([X],[Y])[0][0]\n",
    "        return result\n",
    "    \n",
    "    def add_one(self,X):        \n",
    "        vector=self.get_cls_vector(X)\n",
    "        check=self.search_one(X)\n",
    "        n=len(check)\n",
    "        if n>0 and round(check[0][0],2)==1.0:\n",
    "            print(f\"Already present similar sentence/word = {check[0][1]}\")\n",
    "        else:\n",
    "            meta_data=len(self.vector_data)\n",
    "            self.vector_data.append((meta_data,vector))\n",
    "            self.base_data.append(X)\n",
    "        \n",
    "    def add_more(self,sentences):\n",
    "        for X in sentences:\n",
    "            self.add_one(X)\n",
    "        \n",
    "    def search_one(self,X,metadata=False,threshold=None):\n",
    "        if threshold==None:\n",
    "            threshold=self.threshold\n",
    "        vector=self.get_cls_vector(X)\n",
    "        result=[]\n",
    "        for i in self.vector_data:\n",
    "            score=self.similarity(vector,i[1])\n",
    "            if score>threshold:\n",
    "                data=self.base_data[i[0]]\n",
    "                if metadata:\n",
    "                    index=i[0]\n",
    "                    result.append((score,data,index))\n",
    "                else:\n",
    "                    result.append((score,data))\n",
    "        result=sorted(result,key=lambda x: x[0],reverse=True)\n",
    "        return result\n",
    "\n",
    "    \n",
    "\n",
    "    def remove_one(self,X):\n",
    "        vector=self.get_cls_vector(X)\n",
    "        check=self.search_one(X,metadata=True)\n",
    "        \n",
    "        n=len(check)\n",
    "        if n>0 and round(check[0][0],2)==1.0:\n",
    "            print(f\"Similar sentence/word found = {check[0][1]}\")\n",
    "            option=input(\"Would you like to delete the record(y/n) : \")\n",
    "            if option==\"y\":\n",
    "                index=check[0][2]\n",
    "                vector=self.vector_data.pop(index)\n",
    "                base=self.base_data.pop(index)\n",
    "                print(f\"'{check[0][1]}' at index {index} deleted\")\n",
    "                \n",
    "        else:\n",
    "            print(f\" '{X}' not found\")\n",
    "        \n",
    "        \n",
    "    def remove_all(self):\n",
    "        self.vector_data=[]\n",
    "        self.base_data=[]\n",
    "        print('All vectors removed')\n",
    "        "
   ]
  },
  {
   "cell_type": "code",
   "execution_count": 12,
   "id": "0c5bb0ad-496c-4f4b-bf93-cf74b5e3e024",
   "metadata": {},
   "outputs": [],
   "source": [
    "obj=Search_engine()\n"
   ]
  },
  {
   "cell_type": "code",
   "execution_count": 13,
   "id": "5922291f-3875-4620-af88-1ea4089c4b3c",
   "metadata": {},
   "outputs": [
    {
     "name": "stdout",
     "output_type": "stream",
     "text": [
      "All vectors removed\n"
     ]
    }
   ],
   "source": [
    "books = [\n",
    "    \"To Kill a Mockingbird – A classic novel by Harper Lee that explores racial injustice in the Deep South through the eyes of a young girl.\",\n",
    "    \"1984 – George Orwell’s dystopian vision of a totalitarian future where Big Brother watches everyone.\",\n",
    "    \"Pride and Prejudice – Jane Austen’s romantic novel exploring manners, marriage, and morality in 19th-century England.\",\n",
    "    \"The Great Gatsby – F. Scott Fitzgerald’s portrayal of the American Dream and excess during the Jazz Age.\",\n",
    "    \"Moby-Dick – Herman Melville’s epic tale of obsession and revenge between a whaling captain and a legendary whale.\",\n",
    "    \"War and Peace – Leo Tolstoy’s monumental work on history, love, and conflict during the Napoleonic Wars in Russia.\",\n",
    "    \"Crime and Punishment – Fyodor Dostoevsky’s deep psychological exploration of guilt and redemption after a murder.\",\n",
    "    \"The Catcher in the Rye – J.D. Salinger’s coming-of-age novel about teenage rebellion and alienation.\",\n",
    "    \"Brave New World – Aldous Huxley’s futuristic society ruled by technology, consumerism, and engineered happiness.\",\n",
    "    \"The Lord of the Rings – J.R.R. Tolkien’s legendary fantasy epic about good vs. evil in Middle-earth.\",\n",
    "    \"Jane Eyre – Charlotte Brontë’s Gothic romance about a strong-willed orphan and her complex relationship with Mr. Rochester.\",\n",
    "    \"The Hobbit – A prelude to Lord of the Rings, following Bilbo Baggins on a magical adventure with dwarves and dragons.\",\n",
    "    \"Wuthering Heights – Emily Brontë’s dark, intense love story set on the Yorkshire moors.\",\n",
    "    \"One Hundred Years of Solitude – Gabriel García Márquez’s magical realist chronicle of the Buendía family in the fictional town of Macondo.\",\n",
    "    \"The Brothers Karamazov – Dostoevsky’s exploration of faith, doubt, free will, and family conflict.\",\n",
    "    \"The Alchemist – Paulo Coelho’s philosophical fable about following your dreams and listening to your heart.\",\n",
    "    \"The Book Thief – Markus Zusak’s WWII novel narrated by Death, centered on a girl who finds solace in stolen books.\",\n",
    "    \"The Kite Runner – Khaled Hosseini’s story of friendship, betrayal, and redemption set against Afghanistan’s turbulent history.\",\n",
    "    \"Anna Karenina – Tolstoy’s tragic love story that delves into themes of passion, family, and Russian society.\",\n",
    "    \"Fahrenheit 451 – Ray Bradbury’s dystopian novel where books are banned and 'firemen' burn them to suppress ideas.\"\n",
    "]\n",
    "\n",
    "obj.remove_all()\n",
    "obj.add_more(books)"
   ]
  },
  {
   "cell_type": "code",
   "execution_count": 29,
   "id": "4e4e6685-d20e-45d7-a3db-122dddeb5b3c",
   "metadata": {},
   "outputs": [],
   "source": [
    "\n",
    "result=obj.search_one(\"Fyodor Dostoevsky’s\",threshold=0.7)"
   ]
  },
  {
   "cell_type": "code",
   "execution_count": 30,
   "id": "c6c65cb5-c237-41f8-9fc9-257b79cd4a54",
   "metadata": {},
   "outputs": [
    {
     "data": {
      "text/plain": [
       "(5, 20)"
      ]
     },
     "execution_count": 30,
     "metadata": {},
     "output_type": "execute_result"
    }
   ],
   "source": [
    "len(result),len(books)"
   ]
  },
  {
   "cell_type": "code",
   "execution_count": 31,
   "id": "21720ae5-0536-450e-b8bc-0a977af10d92",
   "metadata": {},
   "outputs": [
    {
     "name": "stdout",
     "output_type": "stream",
     "text": [
      "0.8869642 Crime and Punishment – Fyodor Dostoevsky’s deep psychological exploration of guilt and redemption af\n",
      "0.85153997 The Brothers Karamazov – Dostoevsky’s exploration of faith, doubt, free will, and family conflict.\n",
      "0.7733222 Anna Karenina – Tolstoy’s tragic love story that delves into themes of passion, family, and Russian \n",
      "0.76929617 War and Peace – Leo Tolstoy’s monumental work on history, love, and conflict during the Napoleonic W\n",
      "0.723937 One Hundred Years of Solitude – Gabriel García Márquez’s magical realist chronicle of the Buendía fa\n"
     ]
    }
   ],
   "source": [
    "for idx,title in result:\n",
    "    print(idx,title[:100])"
   ]
  },
  {
   "cell_type": "code",
   "execution_count": null,
   "id": "213b3f3c-d517-4c28-aabc-10acb96a487b",
   "metadata": {},
   "outputs": [],
   "source": []
  }
 ],
 "metadata": {
  "kernelspec": {
   "display_name": "Python 3.9 (tensorflow)",
   "language": "python",
   "name": "tensorflow"
  },
  "language_info": {
   "codemirror_mode": {
    "name": "ipython",
    "version": 3
   },
   "file_extension": ".py",
   "mimetype": "text/x-python",
   "name": "python",
   "nbconvert_exporter": "python",
   "pygments_lexer": "ipython3",
   "version": "3.9.12"
  }
 },
 "nbformat": 4,
 "nbformat_minor": 5
}
